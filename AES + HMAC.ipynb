{
 "cells": [
  {
   "cell_type": "markdown",
   "id": "f8a1752d-fee1-4925-b522-3ea1d401bef5",
   "metadata": {},
   "source": [
    "# AES + HMAC Secure Message (Encrypt-then-MAC)\n",
    "<ul> \n",
    "<li>AES = Hides the content</li>\n",
    "<li>HMAC = Ensures message hasn't been tampered</li>\n",
    "<li>This is used in: VPNs, TLS, Smart Grid secure channels</li>\n",
    "</ul>\n",
    "\n"
   ]
  },
  {
   "cell_type": "code",
   "execution_count": 2,
   "id": "720b789d-6168-4a70-a6db-356618d12833",
   "metadata": {},
   "outputs": [
    {
     "name": "stdout",
     "output_type": "stream",
     "text": [
      " -- SENDER SIDE -- \n",
      "\n",
      "📤 SENT OVER CHANNEL:\n",
      "IV           : fafa91e1cc83dcb4de537979176244d8\n",
      "Ciphertext   : 58c8bdadfff5fe6558fbf61946698fdb7c3e4f8241a67b401df1f739b795f5d2\n",
      "HMAC Tag     : 5f3201e5188fa1346c23ebc3ae7ddd5b11d993e30c5e3de5a14f980dd19c6487\n",
      "\n",
      "📥 RECEIVER SIDE\n",
      "\n",
      "📩 RECEIVED DATA:\n",
      "Received IV         : fafa91e1cc83dcb4de537979176244d8\n",
      "Received Ciphertext : 58c8bdadfff5fe6558fbf61946698fdb7c3e4f8241a67b401df1f739b795f5d2\n",
      "Received HMAC Tag   : 5f3201e5188fa1346c23ebc3ae7ddd5b11d993e30c5e3de5a14f980dd19c6487\n",
      "\n",
      " HMAC Verified. Message is authentic.\n",
      "🔓 Decrypted Message: Practicising Encryption\n"
     ]
    }
   ],
   "source": [
    "from Crypto.Cipher import AES\n",
    "from Crypto.Random import get_random_bytes\n",
    "from Crypto.Util.Padding import pad, unpad\n",
    "import hmac\n",
    "import hashlib\n",
    "\n",
    "# ---------- Sender Side ----------\n",
    "\n",
    "print(\" -- SENDER SIDE -- \")\n",
    "\n",
    "# 1. Generate keys\n",
    "aes_key = get_random_bytes(16)   # AES-128 key\n",
    "hmac_key = get_random_bytes(32)  # HMAC-SHA256 key\n",
    "\n",
    "# 2. Create AES cipher with IV\n",
    "cipher = AES.new(aes_key, AES.MODE_CBC)\n",
    "iv = cipher.iv\n",
    "\n",
    "# 3. Encrypt message\n",
    "plaintext = b\"Practicising Encryption\"\n",
    "padded = pad(plaintext, AES.block_size)\n",
    "ciphertext = cipher.encrypt(padded)\n",
    "\n",
    "# 4. Generate HMAC over (IV + ciphertext)\n",
    "msg_to_mac = iv + ciphertext\n",
    "hmac_digest = hmac.new(hmac_key, msg_to_mac, hashlib.sha256).digest()\n",
    "\n",
    "# 5. Simulate sending over channel\n",
    "print(\"\\n📤 SENT OVER CHANNEL:\")\n",
    "print(f\"IV           : {iv.hex()}\")\n",
    "print(f\"Ciphertext   : {ciphertext.hex()}\")\n",
    "print(f\"HMAC Tag     : {hmac_digest.hex()}\")\n",
    "\n",
    "# ---------- Receiver Side ----------\n",
    "\n",
    "print(\"\\n📥 RECEIVER SIDE\")\n",
    "\n",
    "# 6. Simulate receiving same values\n",
    "received_iv = iv\n",
    "received_ciphertext = ciphertext\n",
    "received_hmac = hmac_digest\n",
    "\n",
    "print(\"\\n📩 RECEIVED DATA:\")\n",
    "print(f\"Received IV         : {received_iv.hex()}\")\n",
    "print(f\"Received Ciphertext : {received_ciphertext.hex()}\")\n",
    "print(f\"Received HMAC Tag   : {received_hmac.hex()}\")\n",
    "\n",
    "# 7. Verify HMAC\n",
    "reconstructed_hmac = hmac.new(hmac_key, received_iv + received_ciphertext, hashlib.sha256).digest()\n",
    "\n",
    "# Constant-time comparison\n",
    "if hmac.compare_digest(received_hmac, reconstructed_hmac):\n",
    "    print(\"\\n HMAC Verified. Message is authentic.\")\n",
    "\n",
    "    # 8. Decrypt the message\n",
    "    decipher = AES.new(aes_key, AES.MODE_CBC, iv=received_iv)\n",
    "    decrypted_padded = decipher.decrypt(received_ciphertext)\n",
    "    decrypted = unpad(decrypted_padded, AES.block_size)\n",
    "    print(\"🔓 Decrypted Message:\", decrypted.decode())\n",
    "\n",
    "else:\n",
    "    print(\"❌ HMAC verification failed. Message is tampered or invalid.\")\n"
   ]
  },
  {
   "cell_type": "code",
   "execution_count": null,
   "id": "e3d9e3c3-f8ba-4606-848a-dcfb5c6f0c9b",
   "metadata": {},
   "outputs": [],
   "source": []
  }
 ],
 "metadata": {
  "kernelspec": {
   "display_name": "Python 3 (ipykernel)",
   "language": "python",
   "name": "python3"
  },
  "language_info": {
   "codemirror_mode": {
    "name": "ipython",
    "version": 3
   },
   "file_extension": ".py",
   "mimetype": "text/x-python",
   "name": "python",
   "nbconvert_exporter": "python",
   "pygments_lexer": "ipython3",
   "version": "3.12.7"
  }
 },
 "nbformat": 4,
 "nbformat_minor": 5
}

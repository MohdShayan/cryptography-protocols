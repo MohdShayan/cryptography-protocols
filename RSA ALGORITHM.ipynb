{
 "cells": [
  {
   "cell_type": "markdown",
   "id": "68884371-c6ca-4212-9f73-072c50e7d81b",
   "metadata": {},
   "source": [
    "# RSA ALGORITHM"
   ]
  },
  {
   "cell_type": "code",
   "execution_count": 48,
   "id": "6abef71a-6034-4b4f-af3d-39029455b55a",
   "metadata": {},
   "outputs": [
    {
     "name": "stdout",
     "output_type": "stream",
     "text": [
      "2305843009213693951\n",
      "36472996377170786401\n",
      "True\n",
      "True\n"
     ]
    }
   ],
   "source": [
    "from sympy import isprime\n",
    "p = ((2 ** 61)-1)  # 1st prime number\n",
    "print(p)\n",
    "q = ((3 ** 41)-2)  # 2nd prime number\n",
    "print(q)\n",
    "print(isprime(p))\n",
    "print(isprime(q))\n",
    "n = p*q           # calcualted n\n",
    "phi = (p-1)*(q-1) # calculated phi euler totient"
   ]
  },
  {
   "cell_type": "code",
   "execution_count": 50,
   "id": "1ad52a81-d7c3-421a-a210-761fbdac0edd",
   "metadata": {},
   "outputs": [
    {
     "name": "stdout",
     "output_type": "stream",
     "text": [
      "Public Key e: 12945730032812804970938103916553348113\n"
     ]
    }
   ],
   "source": [
    "import random\n",
    "from math import gcd\n",
    "\n",
    "while True:\n",
    "    e = random.randrange(2, phi)  # choosing random value of e such that 1<e<phi(n)  and gcd (e,phi(n)) = 1\n",
    "    if gcd(e, phi) == 1:\n",
    "        break \n",
    "\n",
    "print(\"Public Key e:\", e)"
   ]
  },
  {
   "cell_type": "code",
   "execution_count": 53,
   "id": "e881a459-3096-4a42-ba2e-01ff03856a5b",
   "metadata": {},
   "outputs": [
    {
     "name": "stdout",
     "output_type": "stream",
     "text": [
      "Private key 78544634734629444718230787221822568177\n"
     ]
    }
   ],
   "source": [
    "d = pow(e, -1, phi)\n",
    "print('Private key',d)"
   ]
  },
  {
   "cell_type": "code",
   "execution_count": 56,
   "id": "f9ce3a40-c1d8-47d3-8c9b-0964e51894e7",
   "metadata": {},
   "outputs": [
    {
     "name": "stdout",
     "output_type": "stream",
     "text": [
      "[84, 72, 73, 83, 32, 73, 83, 32, 82, 83, 65, 32, 65, 76, 71, 79]\n",
      "cipher c =  [64455709065410352473813820322669411140, 7926915584166920620540958722264831160, 82521480007730619141248759552803017092, 70617246596596850477238357290098816431, 9626804619488902248771003852881580960, 82521480007730619141248759552803017092, 70617246596596850477238357290098816431, 9626804619488902248771003852881580960, 73683893058729505338750568139498810785, 70617246596596850477238357290098816431, 3756171943460801120541303485182767843, 9626804619488902248771003852881580960, 3756171943460801120541303485182767843, 57284115935051142025094559905183894588, 12478241281491463245519094638336268466, 80980055673976714470139916872635249337]\n"
     ]
    }
   ],
   "source": [
    "m = \"THIS IS RSA ALGO\"\n",
    "m_bytes = [ ord(char) for char in m]  # turning each char into its ascii value\n",
    "print(m_bytes)\n",
    "c = [ pow(char,e,n) for char in m_bytes] #encrypting each char using public key e\n",
    "print(\"cipher c = \",c)"
   ]
  },
  {
   "cell_type": "code",
   "execution_count": 57,
   "id": "54740f52-889d-46b8-a3d5-f473ab0e6eca",
   "metadata": {},
   "outputs": [
    {
     "name": "stdout",
     "output_type": "stream",
     "text": [
      "THIS IS RSA ALGO\n"
     ]
    }
   ],
   "source": [
    "decrypted_bytes = [pow(char,d,n) for char in c]   # decrypting each cipher value using private key \n",
    "decrypted_message = ''.join([chr(char) for char in decrypted_bytes]) # turning each ascii value into alphabet then joining string\n",
    "print(decrypted_message)"
   ]
  },
  {
   "cell_type": "code",
   "execution_count": null,
   "id": "15114cad-66ec-4351-a3d0-ba811573ff83",
   "metadata": {},
   "outputs": [],
   "source": []
  }
 ],
 "metadata": {
  "kernelspec": {
   "display_name": "Python 3 (ipykernel)",
   "language": "python",
   "name": "python3"
  },
  "language_info": {
   "codemirror_mode": {
    "name": "ipython",
    "version": 3
   },
   "file_extension": ".py",
   "mimetype": "text/x-python",
   "name": "python",
   "nbconvert_exporter": "python",
   "pygments_lexer": "ipython3",
   "version": "3.12.7"
  }
 },
 "nbformat": 4,
 "nbformat_minor": 5
}

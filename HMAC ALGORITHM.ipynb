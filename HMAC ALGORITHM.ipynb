{
 "cells": [
  {
   "cell_type": "markdown",
   "id": "40171e69-0628-4fc5-8d47-5ee02d998c24",
   "metadata": {},
   "source": [
    "# HMAC - Hash Message Authentication Code "
   ]
  },
  {
   "cell_type": "code",
   "execution_count": 1,
   "id": "9ff60fe1-5982-4478-ac0c-552eb57f02fb",
   "metadata": {},
   "outputs": [
    {
     "name": "stdout",
     "output_type": "stream",
     "text": [
      "HMAC (SHA-256): 898b342f10a004ce786d46387d7229b44d3b428d78514591dd87996a276ce85d\n"
     ]
    }
   ],
   "source": [
    "import hmac\n",
    "import hashlib\n",
    "\n",
    "# Convert string to bytes using .encode()\n",
    "secret_key = 'secret_shared_key'.encode()\n",
    "message = 'hello world'.encode()\n",
    "\n",
    "# Create HMAC object\n",
    "hmac_obj = hmac.new(secret_key, message, hashlib.sha256)\n",
    "\n",
    "# Get HMAC hex digest\n",
    "hmac_digest = hmac_obj.hexdigest()\n",
    "\n",
    "print(\"HMAC (SHA-256):\", hmac_digest)\n"
   ]
  },
  {
   "cell_type": "code",
   "execution_count": 2,
   "id": "d1756ced-eb6e-42b4-b47f-1499665da16e",
   "metadata": {},
   "outputs": [
    {
     "name": "stdout",
     "output_type": "stream",
     "text": [
      "Message verified!\n"
     ]
    }
   ],
   "source": [
    "# Recompute HMAC using same key and message\n",
    "new_hmac = hmac.new(secret_key, message, hashlib.sha256).hexdigest()\n",
    "\n",
    "# Verify authenticity\n",
    "if hmac_digest == new_hmac:\n",
    "    print(\"Message verified!\")\n",
    "else:\n",
    "    print(\"Message tampered!\")\n"
   ]
  },
  {
   "cell_type": "code",
   "execution_count": 3,
   "id": "6fd02866-f77a-44d2-9f05-1bb031c40a91",
   "metadata": {},
   "outputs": [
    {
     "name": "stdout",
     "output_type": "stream",
     "text": [
      "SHA-256 Hash: b94d27b9934d3e08a52e52d7da7dabfac484efe37a5380ee9088f7ace2efcde9\n"
     ]
    }
   ],
   "source": [
    "import hashlib\n",
    "\n",
    "msg = 'hello world'.encode()\n",
    "\n",
    "# Hash using SHA-256\n",
    "hash_object = hashlib.sha256(msg)\n",
    "hash_digest = hash_object.hexdigest()\n",
    "\n",
    "print(\"SHA-256 Hash:\", hash_digest)\n"
   ]
  },
  {
   "cell_type": "code",
   "execution_count": null,
   "id": "03848ae7-5869-40e8-b531-dca525c5ec49",
   "metadata": {},
   "outputs": [],
   "source": []
  }
 ],
 "metadata": {
  "kernelspec": {
   "display_name": "Python 3 (ipykernel)",
   "language": "python",
   "name": "python3"
  },
  "language_info": {
   "codemirror_mode": {
    "name": "ipython",
    "version": 3
   },
   "file_extension": ".py",
   "mimetype": "text/x-python",
   "name": "python",
   "nbconvert_exporter": "python",
   "pygments_lexer": "ipython3",
   "version": "3.12.7"
  }
 },
 "nbformat": 4,
 "nbformat_minor": 5
}

{
 "cells": [
  {
   "cell_type": "markdown",
   "id": "338bf7c1-acc3-45cb-a3ea-818ff9d5f86e",
   "metadata": {},
   "source": [
    "# Diffi Hellman Algorithm"
   ]
  },
  {
   "cell_type": "code",
   "execution_count": 3,
   "id": "23c19e71-a0ad-4acf-a526-bf6c1f40345e",
   "metadata": {},
   "outputs": [],
   "source": [
    "import random\n",
    "from math import gcd\n",
    "from sympy import isprime"
   ]
  },
  {
   "cell_type": "code",
   "execution_count": 8,
   "id": "75bb8b16-a18c-4295-9592-3ec6c818ec1f",
   "metadata": {},
   "outputs": [
    {
     "name": "stdout",
     "output_type": "stream",
     "text": [
      "True\n",
      "public key of A 18\n",
      "public key of B 15\n",
      "q =  23\n",
      "alpha =  5\n"
     ]
    }
   ],
   "source": [
    "q = 23 # choose  a prime number\n",
    "print(isprime(q))\n",
    "\n",
    "alpha = 5 # primitive root such that alpha < q\n",
    "\n",
    "a = random.randint(1, q-2) # random private key for user 1\n",
    "A = pow(alpha,a,q)\n",
    "\n",
    "b = random.randint(1, q-2) # random private key for user 2\n",
    "B = pow(alpha,b,q)\n",
    "\n",
    "print('public key of A',A)\n",
    "print('public key of B',B)\n",
    "\n",
    "print('q = ',q)\n",
    "print ('alpha = ',alpha)\n"
   ]
  },
  {
   "cell_type": "code",
   "execution_count": 13,
   "id": "ed65813c-1873-4d92-88cb-b7160c8acfff",
   "metadata": {},
   "outputs": [
    {
     "name": "stdout",
     "output_type": "stream",
     "text": [
      "A key  8\n",
      "B key  8\n",
      "True\n"
     ]
    }
   ],
   "source": [
    "K1 = pow(B,a,q)  # generating key for user 1\n",
    "K2= pow(A,b,q)   # generating key for user 2\n",
    "print('A key ',K1)\n",
    "print('B key ',K2)\n",
    "print(K1==K2)"
   ]
  },
  {
   "cell_type": "code",
   "execution_count": null,
   "id": "27876f0c-36da-4408-9d8f-d44925452254",
   "metadata": {},
   "outputs": [],
   "source": []
  }
 ],
 "metadata": {
  "kernelspec": {
   "display_name": "Python 3 (ipykernel)",
   "language": "python",
   "name": "python3"
  },
  "language_info": {
   "codemirror_mode": {
    "name": "ipython",
    "version": 3
   },
   "file_extension": ".py",
   "mimetype": "text/x-python",
   "name": "python",
   "nbconvert_exporter": "python",
   "pygments_lexer": "ipython3",
   "version": "3.12.7"
  }
 },
 "nbformat": 4,
 "nbformat_minor": 5
}

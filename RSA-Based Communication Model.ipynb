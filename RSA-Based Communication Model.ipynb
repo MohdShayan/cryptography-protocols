{
 "cells": [
  {
   "cell_type": "markdown",
   "id": "bd882dda-22b1-48c1-9c9e-f3d1549ead2c",
   "metadata": {},
   "source": [
    "# RSA-Based Communication Model between 3 people\n",
    "<ul>\n",
    "    <li>A sends message to B → encrypts with B’s public key</li>\n",
    "        <li>B sends message to C → encrypts with C’s public key</li>\n",
    "        <li>C sends message to A → encrypts with A’s public key</li>\n",
    "</ul>"
   ]
  },
  {
   "cell_type": "code",
   "execution_count": 4,
   "id": "7c96880f-66f0-40cf-bff5-c7f4e7ed7cd0",
   "metadata": {},
   "outputs": [
    {
     "name": "stdout",
     "output_type": "stream",
     "text": [
      "Requirement already satisfied: cryptography in d:\\anaconda\\lib\\site-packages (43.0.0)\n",
      "Requirement already satisfied: cffi>=1.12 in d:\\anaconda\\lib\\site-packages (from cryptography) (1.17.1)\n",
      "Requirement already satisfied: pycparser in d:\\anaconda\\lib\\site-packages (from cffi>=1.12->cryptography) (2.21)\n"
     ]
    }
   ],
   "source": [
    "!pip install cryptography\n",
    "\n",
    "from cryptography.hazmat.primitives.asymmetric import rsa, padding\n",
    "from cryptography.hazmat.primitives import serialization, hashes"
   ]
  },
  {
   "cell_type": "code",
   "execution_count": 5,
   "id": "6850fbdc-582c-4d57-a0fd-c144ba8bc601",
   "metadata": {},
   "outputs": [],
   "source": [
    "# -------------------- 1. Generate RSA Keys --------------------\n",
    "\n",
    "def generate_rsa_keys():\n",
    "    private_key = rsa.generate_private_key(public_exponent=65537, key_size=2048)\n",
    "    public_key = private_key.public_key()\n",
    "    return private_key, public_key\n",
    "\n",
    "# Generate keys for A, B, C\n",
    "A_priv, A_pub = generate_rsa_keys()\n",
    "B_priv, B_pub = generate_rsa_keys()\n",
    "C_priv, C_pub = generate_rsa_keys()"
   ]
  },
  {
   "cell_type": "code",
   "execution_count": 7,
   "id": "fa5cddcd-3971-4a3e-981b-b2043addb711",
   "metadata": {},
   "outputs": [],
   "source": [
    "# -------------------- 2. Encrypt + Decrypt --------------------\n",
    "\n",
    "def encrypt_message(message, receiver_public_key):\n",
    "    ciphertext = receiver_public_key.encrypt(\n",
    "        message.encode(),\n",
    "        padding.OAEP(mgf=padding.MGF1(algorithm=hashes.SHA256()), algorithm=hashes.SHA256(), label=None)\n",
    "    )\n",
    "    return ciphertext\n",
    "\n",
    "def decrypt_message(ciphertext, receiver_private_key):\n",
    "    plaintext = receiver_private_key.decrypt(\n",
    "        ciphertext,\n",
    "        padding.OAEP(mgf=padding.MGF1(algorithm=hashes.SHA256()), algorithm=hashes.SHA256(), label=None)\n",
    "    )\n",
    "    return plaintext.decode()\n"
   ]
  },
  {
   "cell_type": "code",
   "execution_count": 8,
   "id": "741005bf-e5b0-4fbb-938c-6c79880b8a6b",
   "metadata": {},
   "outputs": [
    {
     "name": "stdout",
     "output_type": "stream",
     "text": [
      " A → B encrypted: 959b15b934ce8d3e6b780c45347ca5cc374930288ce726492d01b3ab4ab7fbe8214a600c5f33b5618dcd4c6be509391a57ed313b1538d6cd20401fad456e7e366780bf56990bf8034205f4b52c88e3f89dac33589df90aeee9aa4b7ab6ba00ffe6962f7350b01f302109084b7d1152b6bb20068deedad640ed922e1912551062487a494f8d21b922763f6649796e0e51bc2563e796f98b7cef07ee4b38261a112ad273fe3f0957c363e32a45c637f131cebc79340763815c66b2d55c2bc90369f1a7ef11307ffce2c528cd09124205e526e9ed879e29a3d85fd02b6dbceb3279bd89bd25b12f1e6d0e1e7c7146c354603e981e6d7a85686e0d407ef6e79bea66\n",
      " B decrypts: Hello B, this is message A!\n",
      "\n",
      " B → C encrypted: 3dd021cceaf5620e722b35f40c149408eaeaf3fce1753a054fc6adc8a39ffa9f4c335f5fb64f1550928bb88fa4a2cb2070dd602394053b758a5eed93b5852f96824725ac3295517960c771f9a25f5bdbc5583093a401dcb0ec6bed72d44adca8977cedff04601789015617035e62adccffd0acbba3f4b62aae12f5e65847a4409c895769fdec6c934879e8af7baf68d6622bc1fbacd7709461d01a679149f0df3eb811a144aae2e96669cba3d20bf1eca9abf7f0b9b68c5f2f282c11518b7eeb813cd6807927790320c6b06c26f8ddab219c11e81cded15f24c285d40555c909699dca9a24eb2c9193dc992e9590b79ea35d2bbe119c431390352a7b8536970d\n",
      " C decrypts: Hello C, this is B!\n",
      "\n",
      " C → A encrypted: 5b14166eea50e29cdc4bd1488ccc110bc2ef96ae0309934654278e6ceb8367bcf48bc2d02bd84b6e0ea24b2eac38257f15d6ed7d617e0865556638ecaba9a01a9f9c9ecfda4868ae2184363d9d9cd58e16e1672f11ad5b339109f9442553da5ec521244caaca1abd0ab1402461a87bbe2bbb09efda1c0f01640657820b0871da3dfd56904c3cd3d1590c9dfd559a6eb00f59ca53819b1a1b6af200d05fbc79d591bffbd5499c01c664fca7c42cfa13c2f9533a1663b16b4248402dd5f1ca65e6b9364be2659adbdb14625a70632c6a19e47e557ac830af4beab36763f1637e36efcf934cba5d0f9f71b42922b689f7967a3221c3dc4761f712409c5f1642dd1d\n",
      " A decrypts: Hey A, C here!\n"
     ]
    }
   ],
   "source": [
    "# -------------------- 3. Simulate Message Exchange --------------------\n",
    "\n",
    "# A sends to B\n",
    "msg_a_to_b = \"Hello B, this is message A!\"\n",
    "ciphertext_ab = encrypt_message(msg_a_to_b, B_pub)\n",
    "print(\" A → B encrypted:\", ciphertext_ab.hex())\n",
    "print(\" B decrypts:\", decrypt_message(ciphertext_ab, B_priv))\n",
    "\n",
    "# B sends to C\n",
    "msg_b_to_c = \"Hello C, this is B!\"\n",
    "ciphertext_bc = encrypt_message(msg_b_to_c, C_pub)\n",
    "print(\"\\n B → C encrypted:\", ciphertext_bc.hex())\n",
    "print(\" C decrypts:\", decrypt_message(ciphertext_bc, C_priv))\n",
    "\n",
    "# C sends to A\n",
    "msg_c_to_a = \"Hey A, C here!\"\n",
    "ciphertext_ca = encrypt_message(msg_c_to_a, A_pub)\n",
    "print(\"\\n C → A encrypted:\", ciphertext_ca.hex())\n",
    "print(\" A decrypts:\", decrypt_message(ciphertext_ca, A_priv))"
   ]
  },
  {
   "cell_type": "code",
   "execution_count": null,
   "id": "f06356fc-d0a5-4ee7-82f2-55344c644f8c",
   "metadata": {},
   "outputs": [],
   "source": []
  }
 ],
 "metadata": {
  "kernelspec": {
   "display_name": "Python 3 (ipykernel)",
   "language": "python",
   "name": "python3"
  },
  "language_info": {
   "codemirror_mode": {
    "name": "ipython",
    "version": 3
   },
   "file_extension": ".py",
   "mimetype": "text/x-python",
   "name": "python",
   "nbconvert_exporter": "python",
   "pygments_lexer": "ipython3",
   "version": "3.12.7"
  }
 },
 "nbformat": 4,
 "nbformat_minor": 5
}

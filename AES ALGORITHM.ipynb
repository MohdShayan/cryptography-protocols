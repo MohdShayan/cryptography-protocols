{
 "cells": [
  {
   "cell_type": "markdown",
   "id": "fd869801-5bc4-408c-aac2-b90eec254120",
   "metadata": {},
   "source": [
    "# AES - Advance Encryption Standard"
   ]
  },
  {
   "cell_type": "code",
   "execution_count": 2,
   "id": "92075fe6-040e-4d42-8c56-73c8b1d18001",
   "metadata": {},
   "outputs": [
    {
     "name": "stdout",
     "output_type": "stream",
     "text": [
      "Ciphertext (hex): 035b035197469e1fbe25a6b6b97992495deda0cf107e9fe9aa175b739b45e0c4\n",
      "Decrypted message: This is a secret message.\n"
     ]
    }
   ],
   "source": [
    "from Crypto.Cipher import AES\n",
    "from Crypto.Random import get_random_bytes\n",
    "from Crypto.Util.Padding import pad, unpad\n",
    "\n",
    "# Step 1: Generate AES key (16 bytes = 128-bit key)\n",
    "key = get_random_bytes(16)  \n",
    "\n",
    "# Step 2: Create AES cipher in CBC mode with random IV\n",
    "cipher = AES.new(key, AES.MODE_CBC)\n",
    "iv = cipher.iv\n",
    "\n",
    "# Step 3: Encrypt the message\n",
    "plaintext = \"This is a secret message.\".encode()\n",
    "padded_plaintext = pad(plaintext, AES.block_size) \n",
    "ciphertext = cipher.encrypt(padded_plaintext)\n",
    "\n",
    "print(\"Ciphertext (hex):\", ciphertext.hex())\n",
    "\n",
    "# Step 4: Decrypt the message\n",
    "decipher = AES.new(key, AES.MODE_CBC, iv=iv)\n",
    "decrypted_padded = decipher.decrypt(ciphertext)\n",
    "decrypted = unpad(decrypted_padded, AES.block_size)\n",
    "\n",
    "print(\"Decrypted message:\", decrypted.decode())\n"
   ]
  },
  {
   "cell_type": "code",
   "execution_count": null,
   "id": "79c97042-84dc-4143-8f5d-06c31cfdf32d",
   "metadata": {},
   "outputs": [],
   "source": []
  }
 ],
 "metadata": {
  "kernelspec": {
   "display_name": "Python 3 (ipykernel)",
   "language": "python",
   "name": "python3"
  },
  "language_info": {
   "codemirror_mode": {
    "name": "ipython",
    "version": 3
   },
   "file_extension": ".py",
   "mimetype": "text/x-python",
   "name": "python",
   "nbconvert_exporter": "python",
   "pygments_lexer": "ipython3",
   "version": "3.12.7"
  }
 },
 "nbformat": 4,
 "nbformat_minor": 5
}

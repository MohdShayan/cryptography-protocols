{
 "cells": [
  {
   "cell_type": "markdown",
   "id": "41c87f80-7456-4453-99fb-7b9a99255b7f",
   "metadata": {},
   "source": [
    "# ELGAMAL CRYPTOGRAPHY ALGORITHM\n"
   ]
  },
  {
   "cell_type": "code",
   "execution_count": 7,
   "id": "7b3b4db4-db11-4641-b354-d0c02efee527",
   "metadata": {},
   "outputs": [],
   "source": [
    "import random\n",
    "\n",
    "def generate_keys(p, g):\n",
    "    x = random.randint(1, p-2)       \n",
    "    y = pow(g, x, p)                 # Public key part y = g^x mod p\n",
    "    return (p, g, y), x\n",
    "\n",
    "\n",
    "def encrypt(p,g,y,m):\n",
    "    k = random.randint(1,p-2)\n",
    "    c1 = pow (g,k,p)  # c1= g^k mod p\n",
    "    s = pow(y,k,p)    # s = y^k mod p\n",
    "    c2 = (m * s) % p\n",
    "    return(c1,c2)\n",
    "\n",
    "\n",
    "def decrypt(p,x,c1,c2):\n",
    "    s = pow(c1,x,p)\n",
    "    s_inv= pow(s,-1,p)\n",
    "    m = (c2*s_inv) % p\n",
    "    return m\n",
    "\n"
   ]
  },
  {
   "cell_type": "code",
   "execution_count": 8,
   "id": "28d0e4c2-de03-4b50-ac2b-bd40c84d3367",
   "metadata": {},
   "outputs": [
    {
     "name": "stdout",
     "output_type": "stream",
     "text": [
      "Public Key = (p=467, g=2, y=202)\n",
      "Private key x = 348\n",
      "Ciphertext = (296, 122)\n",
      "Decrypted message = 123\n"
     ]
    }
   ],
   "source": [
    "p = 467\n",
    "g = 2\n",
    "m = 123\n",
    "\n",
    "# Key generation\n",
    "print(f\"Public Key = (p={p}, g={g}, y={y})\")\n",
    "print(f\"Private key x = {x}\")\n",
    "\n",
    "\n",
    "# Encryption\n",
    "c1, c2 = encrypt(p, g, y, m)\n",
    "print(f\"Ciphertext = ({c1}, {c2})\")\n",
    "\n",
    "# Decryption\n",
    "decrypted_m = decrypt(p, x, c1, c2)\n",
    "print(f\"Decrypted message = {decrypted_m}\")"
   ]
  },
  {
   "cell_type": "code",
   "execution_count": null,
   "id": "164e1a1b-b271-4fa6-a61f-6a9db1a9ad79",
   "metadata": {},
   "outputs": [],
   "source": []
  }
 ],
 "metadata": {
  "kernelspec": {
   "display_name": "Python 3 (ipykernel)",
   "language": "python",
   "name": "python3"
  },
  "language_info": {
   "codemirror_mode": {
    "name": "ipython",
    "version": 3
   },
   "file_extension": ".py",
   "mimetype": "text/x-python",
   "name": "python",
   "nbconvert_exporter": "python",
   "pygments_lexer": "ipython3",
   "version": "3.12.7"
  }
 },
 "nbformat": 4,
 "nbformat_minor": 5
}
